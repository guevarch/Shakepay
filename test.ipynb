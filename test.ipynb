{
 "cells": [
  {
   "cell_type": "code",
   "execution_count": null,
   "metadata": {
    "vscode": {
     "languageId": "lua"
    }
   },
   "outputs": [],
   "source": [
    "def reverse_word(word):\n",
    "    reversed_word = \"\"\n",
    "    for letter in word:\n",
    "        reversed_word = letter + reversed_word\n",
    "    return reversed_word\n",
    "\n",
    "def check_all_palindromes(arr):\n",
    "    for word in arr:\n",
    "        if word != reverse_word(word):\n",
    "            return False\n",
    "    return True\n",
    "\n",
    "words = [\"madam\", \"racecar\", \"level\"]\n",
    "print(check_all_palindromes(words))  # Output: True\n",
    "\n",
    "words = [\"hello\", \"world\", \"level\"]\n",
    "print(check_all_palindromes(words))  # Output: False\n",
    "    "
   ]
  }
 ],
 "metadata": {
  "kernelspec": {
   "display_name": "base",
   "language": "python",
   "name": "python3"
  },
  "language_info": {
   "codemirror_mode": {
    "name": "ipython",
    "version": 3
   },
   "file_extension": ".py",
   "mimetype": "text/x-python",
   "name": "python",
   "nbconvert_exporter": "python",
   "pygments_lexer": "ipython3",
   "version": "3.11.5"
  }
 },
 "nbformat": 4,
 "nbformat_minor": 2
}
