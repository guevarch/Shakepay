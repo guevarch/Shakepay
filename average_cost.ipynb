{
 "cells": [
  {
   "cell_type": "code",
   "execution_count": 1,
   "metadata": {},
   "outputs": [
    {
     "name": "stdout",
     "output_type": "stream",
     "text": [
      "Successfully loaded file resources/transactions_summary (22).csv\n",
      "Successfully loaded file resources/transactions_summary (23).csv\n"
     ]
    }
   ],
   "source": [
    "import pandas as pd\n",
    "import numpy as np\n",
    "import pandas as pd\n",
    "from datetime import datetime\n",
    "\n",
    "try:\n",
    "\n",
    "    df_list = []\n",
    "\n",
    "    for i in range(1, 31):\n",
    "        try:\n",
    "            filename = f'resources/transactions_summary ({i}).csv'\n",
    "            df = pd.read_csv(filename)\n",
    "            df_list.append(df)\n",
    "            print(f'Successfully loaded file {filename}')\n",
    "            # Perform any data analysis or manipulation you need\n",
    "        except FileNotFoundError:\n",
    "            pass\n",
    "\n",
    "    shake_data_df = pd.concat(df_list, ignore_index=True)\n",
    "    shake_data_df['Date'] = pd.to_datetime(shake_data_df['Date']).dt.strftime('%Y-%m-%d')\n",
    "\n",
    "except FileNotFoundError:\n",
    "    print(\"File not found. Please check the filename and path and try again.\")\n",
    "\n",
    "\n",
    "\n"
   ]
  },
  {
   "cell_type": "code",
   "execution_count": 2,
   "metadata": {},
   "outputs": [
    {
     "data": {
      "text/html": [
       "<div>\n",
       "<style scoped>\n",
       "    .dataframe tbody tr th:only-of-type {\n",
       "        vertical-align: middle;\n",
       "    }\n",
       "\n",
       "    .dataframe tbody tr th {\n",
       "        vertical-align: top;\n",
       "    }\n",
       "\n",
       "    .dataframe thead th {\n",
       "        text-align: right;\n",
       "    }\n",
       "</style>\n",
       "<table border=\"1\" class=\"dataframe\">\n",
       "  <thead>\n",
       "    <tr style=\"text-align: right;\">\n",
       "      <th></th>\n",
       "      <th>Transaction Type</th>\n",
       "      <th>Date</th>\n",
       "      <th>Amount Debited</th>\n",
       "      <th>Debit Currency</th>\n",
       "      <th>Amount Credited</th>\n",
       "      <th>Credit Currency</th>\n",
       "      <th>Buy / Sell Rate</th>\n",
       "      <th>Direction</th>\n",
       "      <th>Spot Rate</th>\n",
       "      <th>Source / Destination</th>\n",
       "      <th>Blockchain Transaction ID</th>\n",
       "    </tr>\n",
       "  </thead>\n",
       "  <tbody>\n",
       "    <tr>\n",
       "      <th>9</th>\n",
       "      <td>purchase/sale</td>\n",
       "      <td>2021-05-10</td>\n",
       "      <td>400.0</td>\n",
       "      <td>CAD</td>\n",
       "      <td>0.005553</td>\n",
       "      <td>BTC</td>\n",
       "      <td>72033.0127</td>\n",
       "      <td>purchase</td>\n",
       "      <td>NaN</td>\n",
       "      <td>NaN</td>\n",
       "      <td>NaN</td>\n",
       "    </tr>\n",
       "    <tr>\n",
       "      <th>12</th>\n",
       "      <td>purchase/sale</td>\n",
       "      <td>2021-05-13</td>\n",
       "      <td>250.0</td>\n",
       "      <td>CAD</td>\n",
       "      <td>0.004047</td>\n",
       "      <td>BTC</td>\n",
       "      <td>61769.6764</td>\n",
       "      <td>purchase</td>\n",
       "      <td>NaN</td>\n",
       "      <td>NaN</td>\n",
       "      <td>NaN</td>\n",
       "    </tr>\n",
       "    <tr>\n",
       "      <th>15</th>\n",
       "      <td>purchase/sale</td>\n",
       "      <td>2021-05-14</td>\n",
       "      <td>150.0</td>\n",
       "      <td>CAD</td>\n",
       "      <td>0.002441</td>\n",
       "      <td>BTC</td>\n",
       "      <td>61456.2271</td>\n",
       "      <td>purchase</td>\n",
       "      <td>NaN</td>\n",
       "      <td>NaN</td>\n",
       "      <td>NaN</td>\n",
       "    </tr>\n",
       "    <tr>\n",
       "      <th>18</th>\n",
       "      <td>purchase/sale</td>\n",
       "      <td>2021-05-15</td>\n",
       "      <td>50.0</td>\n",
       "      <td>CAD</td>\n",
       "      <td>0.000827</td>\n",
       "      <td>BTC</td>\n",
       "      <td>60451.1471</td>\n",
       "      <td>purchase</td>\n",
       "      <td>NaN</td>\n",
       "      <td>NaN</td>\n",
       "      <td>NaN</td>\n",
       "    </tr>\n",
       "    <tr>\n",
       "      <th>20</th>\n",
       "      <td>purchase/sale</td>\n",
       "      <td>2021-05-15</td>\n",
       "      <td>200.0</td>\n",
       "      <td>CAD</td>\n",
       "      <td>0.003322</td>\n",
       "      <td>BTC</td>\n",
       "      <td>60202.2539</td>\n",
       "      <td>purchase</td>\n",
       "      <td>NaN</td>\n",
       "      <td>NaN</td>\n",
       "      <td>NaN</td>\n",
       "    </tr>\n",
       "  </tbody>\n",
       "</table>\n",
       "</div>"
      ],
      "text/plain": [
       "   Transaction Type        Date  Amount Debited Debit Currency  \\\n",
       "9     purchase/sale  2021-05-10           400.0            CAD   \n",
       "12    purchase/sale  2021-05-13           250.0            CAD   \n",
       "15    purchase/sale  2021-05-14           150.0            CAD   \n",
       "18    purchase/sale  2021-05-15            50.0            CAD   \n",
       "20    purchase/sale  2021-05-15           200.0            CAD   \n",
       "\n",
       "    Amount Credited Credit Currency  Buy / Sell Rate Direction  Spot Rate  \\\n",
       "9          0.005553             BTC       72033.0127  purchase        NaN   \n",
       "12         0.004047             BTC       61769.6764  purchase        NaN   \n",
       "15         0.002441             BTC       61456.2271  purchase        NaN   \n",
       "18         0.000827             BTC       60451.1471  purchase        NaN   \n",
       "20         0.003322             BTC       60202.2539  purchase        NaN   \n",
       "\n",
       "   Source / Destination Blockchain Transaction ID  \n",
       "9                   NaN                       NaN  \n",
       "12                  NaN                       NaN  \n",
       "15                  NaN                       NaN  \n",
       "18                  NaN                       NaN  \n",
       "20                  NaN                       NaN  "
      ]
     },
     "execution_count": 2,
     "metadata": {},
     "output_type": "execute_result"
    }
   ],
   "source": [
    "shake_data_df1 = shake_data_df.drop(['Debit Currency','Direction', 'Source / Destination', 'Blockchain Transaction ID'], axis=1)\n",
    "mask = shake_data_df1['Transaction Type'].isin(['purchase/sale'])\n",
    "new_shake_data_df = shake_data_df[mask]\n",
    "mask2 = shake_data_df['Credit Currency'].isin(['BTC'])\n",
    "new_shake_data_df = shake_data_df[mask2]\n",
    "new_shake_data_df.head(5)\n"
   ]
  },
  {
   "cell_type": "code",
   "execution_count": 3,
   "metadata": {},
   "outputs": [
    {
     "name": "stdout",
     "output_type": "stream",
     "text": [
      "36339.44374351911\n",
      "0.6552969700000001\n",
      "25501.870000000003\n"
     ]
    }
   ],
   "source": [
    "buy_sell_rate = new_shake_data_df['Buy / Sell Rate'].mean()\n",
    "stack = new_shake_data_df['Amount Credited'].sum()\n",
    "cash = new_shake_data_df['Amount Debited'].sum()\n",
    "print(buy_sell_rate)\n",
    "print(stack)\n",
    "print(cash)\n"
   ]
  },
  {
   "cell_type": "code",
   "execution_count": 4,
   "metadata": {},
   "outputs": [
    {
     "name": "stdout",
     "output_type": "stream",
     "text": [
      "35613.7733172645\n"
     ]
    },
    {
     "name": "stderr",
     "output_type": "stream",
     "text": [
      "C:\\Users\\16474\\AppData\\Local\\Temp\\ipykernel_3556\\1686005046.py:1: SettingWithCopyWarning: \n",
      "A value is trying to be set on a copy of a slice from a DataFrame.\n",
      "Try using .loc[row_indexer,col_indexer] = value instead\n",
      "\n",
      "See the caveats in the documentation: https://pandas.pydata.org/pandas-docs/stable/user_guide/indexing.html#returning-a-view-versus-a-copy\n",
      "  new_shake_data_df['weightedbuy'] = new_shake_data_df['Buy / Sell Rate'] * new_shake_data_df['Amount Debited']\n"
     ]
    }
   ],
   "source": [
    "new_shake_data_df['weightedbuy'] = new_shake_data_df['Buy / Sell Rate'] * new_shake_data_df['Amount Debited']\n",
    "weighted_average=new_shake_data_df['weightedbuy'].sum() / new_shake_data_df['Buy / Sell Rate'].mean()\n",
    "print(weighted_average)"
   ]
  }
 ],
 "metadata": {
  "kernelspec": {
   "display_name": "PythonData",
   "language": "python",
   "name": "pythondata"
  },
  "language_info": {
   "codemirror_mode": {
    "name": "ipython",
    "version": 3
   },
   "file_extension": ".py",
   "mimetype": "text/x-python",
   "name": "python",
   "nbconvert_exporter": "python",
   "pygments_lexer": "ipython3",
   "version": "3.9.12"
  },
  "orig_nbformat": 4
 },
 "nbformat": 4,
 "nbformat_minor": 2
}
